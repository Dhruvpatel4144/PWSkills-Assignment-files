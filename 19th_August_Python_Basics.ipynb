{
 "cells": [
  {
   "cell_type": "markdown",
   "id": "2290e04e",
   "metadata": {},
   "source": [
    "# Assignment 1"
   ]
  },
  {
   "cell_type": "markdown",
   "id": "6927a25d",
   "metadata": {},
   "source": [
    "## TOPIC: Python Basics Variable"
   ]
  },
  {
   "cell_type": "markdown",
   "id": "4de3071a",
   "metadata": {},
   "source": [
    "1. Declare two variables, `x` and `y`, and assign them integer values. Swap the\n",
    "values of these variables without using any temporary variable.\n",
    "\n",
    "2. Create a program that calculates the area of a rectangle. Take the length and\n",
    "width as inputs from the user and store them in variables. Calculate and\n",
    "display the area.\n",
    "\n",
    "3. Write a Python program that converts temperatures from Celsius to\n",
    "Fahrenheit. Take the temperature in Celsius as input, store it in a variable,\n",
    "convert it to Fahrenheit, and display the result."
   ]
  },
  {
   "cell_type": "markdown",
   "id": "c6733bed",
   "metadata": {},
   "source": [
    "### 1. Declare two variables, 'x' and 'y', and assign them integer values. Swap the values of these variables without using any temporary variable."
   ]
  },
  {
   "cell_type": "code",
   "execution_count": 14,
   "id": "6c3171e3",
   "metadata": {},
   "outputs": [
    {
     "data": {
      "text/plain": [
       "12"
      ]
     },
     "execution_count": 14,
     "metadata": {},
     "output_type": "execute_result"
    }
   ],
   "source": [
    "x = 7\n",
    "y = 5\n",
    "\n",
    "x = x + y     # (7+5 = 12)\n",
    "x"
   ]
  },
  {
   "cell_type": "code",
   "execution_count": 15,
   "id": "06e9dbc8",
   "metadata": {},
   "outputs": [
    {
     "data": {
      "text/plain": [
       "7"
      ]
     },
     "execution_count": 15,
     "metadata": {},
     "output_type": "execute_result"
    }
   ],
   "source": [
    "y = x-y      # (12-5 = 7)\n",
    "y"
   ]
  },
  {
   "cell_type": "code",
   "execution_count": 16,
   "id": "6605a1e8",
   "metadata": {},
   "outputs": [
    {
     "data": {
      "text/plain": [
       "5"
      ]
     },
     "execution_count": 16,
     "metadata": {},
     "output_type": "execute_result"
    }
   ],
   "source": [
    "x = x - y    # (12-7 = 5)\n",
    "x"
   ]
  },
  {
   "cell_type": "markdown",
   "id": "2594b6e1",
   "metadata": {},
   "source": [
    "### 2. Create a program that calculates the area of a rectangle. Take the length and width as inputs from the user and store them in variables. Calculate and display the area."
   ]
  },
  {
   "cell_type": "code",
   "execution_count": 19,
   "id": "6dceef7b",
   "metadata": {},
   "outputs": [
    {
     "name": "stdout",
     "output_type": "stream",
     "text": [
      "Enter a length : 5\n",
      "Enter a width : 4\n",
      "Area of Rectangle is  20\n"
     ]
    }
   ],
   "source": [
    "x = int(input(\"Enter a length : \"))\n",
    "y = int(input(\"Enter a width : \"))\n",
    "\n",
    "area = x * y\n",
    "print(\"Area of Rectangle is \",area)"
   ]
  },
  {
   "cell_type": "markdown",
   "id": "d18af117",
   "metadata": {},
   "source": [
    "### 3. Write a Python program that converts temperatures from Celsius to Fahrenheit. Take the temperature in Celsius as input, store it in a variable, convert it to Fahrenheit, and display the result."
   ]
  },
  {
   "cell_type": "code",
   "execution_count": 21,
   "id": "ac47758d",
   "metadata": {},
   "outputs": [
    {
     "name": "stdout",
     "output_type": "stream",
     "text": [
      "Enter temperature in celsius : 25\n",
      " Temperature in fahrenheit :  77.0\n"
     ]
    }
   ],
   "source": [
    "celsius = int(input(\"Enter temperature in celsius : \"))\n",
    "fahrenheit = (9/5 * celsius) + 32\n",
    "print(\" Temperature in fahrenheit : \", fahrenheit)"
   ]
  },
  {
   "cell_type": "markdown",
   "id": "13236615",
   "metadata": {},
   "source": [
    "## TOPIC: String Based Questions"
   ]
  },
  {
   "cell_type": "markdown",
   "id": "3874dc19",
   "metadata": {},
   "source": [
    "1. Write a Python program that takes a string as input and prints the length of\n",
    "the string.\n",
    "\n",
    "2. Create a program that takes a sentence from the user and counts the number\n",
    "of vowels (a, e, i, o, u) in the string.\n",
    "\n",
    "3. Given a string, reverse the order of characters using string slicing and print\n",
    "the reversed string.\n",
    "\n",
    "4. Write a program that takes a string as input and checks if it is a palindrome\n",
    "(reads the same forwards and backwards).\n",
    "\n",
    "5. Create a program that takes a string as input and removes all the spaces from\n",
    "it. Print the modified string without spaces."
   ]
  },
  {
   "cell_type": "markdown",
   "id": "cb509945",
   "metadata": {},
   "source": [
    "### 1. Write a Python program that takes a string as input and prints the length of the string."
   ]
  },
  {
   "cell_type": "code",
   "execution_count": 22,
   "id": "f771dc85",
   "metadata": {},
   "outputs": [
    {
     "name": "stdout",
     "output_type": "stream",
     "text": [
      "Enter a string : hello dhruv\n",
      "Length of the string is :  11\n"
     ]
    }
   ],
   "source": [
    "s = str(input(\"Enter a string : \"))\n",
    "print(\"Length of the string is : \", len(s))"
   ]
  },
  {
   "cell_type": "markdown",
   "id": "d7cffa9e",
   "metadata": {},
   "source": [
    "### 2. Create a program that takes a sentence from the user and counts the number of vowels (a, e, i, o, u) in the string."
   ]
  },
  {
   "cell_type": "code",
   "execution_count": 26,
   "id": "31c13da8",
   "metadata": {},
   "outputs": [
    {
     "name": "stdout",
     "output_type": "stream",
     "text": [
      "Enter a string : hello dhruv, welcome to full stack data science programe\n",
      "Length of the vowel 'a' is :  4\n",
      "Length of the vowel 'e' is :  6\n",
      "Length of the vowel 'i' is :  1\n",
      "Length of the vowel 'o' is :  4\n",
      "Length of the vowel 'u' is :  2\n"
     ]
    }
   ],
   "source": [
    "s1 = str(input(\"Enter a string : \"))\n",
    "print(\"Length of the vowel 'a' is : \", s1.count('a'))\n",
    "print(\"Length of the vowel 'e' is : \", s1.count('e'))\n",
    "print(\"Length of the vowel 'i' is : \", s1.count('i'))\n",
    "print(\"Length of the vowel 'o' is : \", s1.count('o'))\n",
    "print(\"Length of the vowel 'u' is : \", s1.count('u'))"
   ]
  },
  {
   "cell_type": "markdown",
   "id": "389342ed",
   "metadata": {},
   "source": [
    "### 3. Given a string, reverse the order of characters using string slicing and print the reversed string."
   ]
  },
  {
   "cell_type": "code",
   "execution_count": 27,
   "id": "6173ba4c",
   "metadata": {},
   "outputs": [
    {
     "data": {
      "text/plain": [
       "'vurhD'"
      ]
     },
     "execution_count": 27,
     "metadata": {},
     "output_type": "execute_result"
    }
   ],
   "source": [
    "s2 = \"Dhruv\"\n",
    "s2[::-1]        # reversing the string"
   ]
  },
  {
   "cell_type": "markdown",
   "id": "585d076d",
   "metadata": {},
   "source": [
    "### 4. Write a program that takes a string as input and checks if it is a palindrome (reads the same forwards and backwards)."
   ]
  },
  {
   "cell_type": "code",
   "execution_count": 50,
   "id": "85b3b990",
   "metadata": {},
   "outputs": [
    {
     "name": "stdout",
     "output_type": "stream",
     "text": [
      "Enter a string : level\n",
      "String is a Palindrome\n"
     ]
    }
   ],
   "source": [
    "s3 = str(input(\"Enter a string : \"))\n",
    "\n",
    "if s3 == s3[::-1]:\n",
    "    print(\"String is a Palindrome\")\n",
    "else:\n",
    "    print(\"String is not a Palindrome\")\n",
    " "
   ]
  },
  {
   "cell_type": "markdown",
   "id": "627eb193",
   "metadata": {},
   "source": [
    "### 5. Create a program that takes a string as input and removes all the spaces from it. Print the modified string without spaces."
   ]
  },
  {
   "cell_type": "code",
   "execution_count": 54,
   "id": "ec61a575",
   "metadata": {},
   "outputs": [
    {
     "name": "stdout",
     "output_type": "stream",
     "text": [
      "Enter a string : Dhruv has completed his Assignment successfully\n"
     ]
    },
    {
     "data": {
      "text/plain": [
       "'DhruvhascompletedhisAssignmentsuccessfully'"
      ]
     },
     "execution_count": 54,
     "metadata": {},
     "output_type": "execute_result"
    }
   ],
   "source": [
    "s4 = str(input(\"Enter a string : \"))\n",
    "s4.replace(' ','')"
   ]
  },
  {
   "cell_type": "code",
   "execution_count": null,
   "id": "c51473f3",
   "metadata": {},
   "outputs": [],
   "source": []
  }
 ],
 "metadata": {
  "kernelspec": {
   "display_name": "Python 3 (ipykernel)",
   "language": "python",
   "name": "python3"
  },
  "language_info": {
   "codemirror_mode": {
    "name": "ipython",
    "version": 3
   },
   "file_extension": ".py",
   "mimetype": "text/x-python",
   "name": "python",
   "nbconvert_exporter": "python",
   "pygments_lexer": "ipython3",
   "version": "3.10.9"
  }
 },
 "nbformat": 4,
 "nbformat_minor": 5
}
